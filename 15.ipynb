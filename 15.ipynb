{
 "cells": [
  {
   "attachments": {},
   "cell_type": "markdown",
   "metadata": {},
   "source": [
    "```--- Day 15: Beacon Exclusion Zone ---\n",
    "You feel the ground rumble again as the distress signal leads you to a large network of subterranean tunnels. You don't have time to search them all, but you don't need to: your pack contains a set of deployable sensors that you imagine were originally built to locate lost Elves.\n",
    "\n",
    "The sensors aren't very powerful, but that's okay; your handheld device indicates that you're close enough to the source of the distress signal to use them. You pull the emergency sensor system out of your pack, hit the big button on top, and the sensors zoom off down the tunnels.\n",
    "\n",
    "Once a sensor finds a spot it thinks will give it a good reading, it attaches itself to a hard surface and begins monitoring for the nearest signal source beacon. Sensors and beacons always exist at integer coordinates. Each sensor knows its own position and can determine the position of a beacon precisely; however, sensors can only lock on to the one beacon closest to the sensor as measured by the Manhattan distance. (There is never a tie where two beacons are the same distance to a sensor.)\n",
    "\n",
    "It doesn't take long for the sensors to report back their positions and closest beacons (your puzzle input). For example:\n",
    "\n",
    "Sensor at x=2, y=18: closest beacon is at x=-2, y=15\n",
    "Sensor at x=9, y=16: closest beacon is at x=10, y=16\n",
    "Sensor at x=13, y=2: closest beacon is at x=15, y=3\n",
    "Sensor at x=12, y=14: closest beacon is at x=10, y=16\n",
    "Sensor at x=10, y=20: closest beacon is at x=10, y=16\n",
    "Sensor at x=14, y=17: closest beacon is at x=10, y=16\n",
    "Sensor at x=8, y=7: closest beacon is at x=2, y=10\n",
    "Sensor at x=2, y=0: closest beacon is at x=2, y=10\n",
    "Sensor at x=0, y=11: closest beacon is at x=2, y=10\n",
    "Sensor at x=20, y=14: closest beacon is at x=25, y=17\n",
    "Sensor at x=17, y=20: closest beacon is at x=21, y=22\n",
    "Sensor at x=16, y=7: closest beacon is at x=15, y=3\n",
    "Sensor at x=14, y=3: closest beacon is at x=15, y=3\n",
    "Sensor at x=20, y=1: closest beacon is at x=15, y=3\n",
    "So, consider the sensor at 2,18; the closest beacon to it is at -2,15. For the sensor at 9,16, the closest beacon to it is at 10,16.\n",
    "\n",
    "Drawing sensors as S and beacons as B, the above arrangement of sensors and beacons looks like this:\n",
    "\n",
    "               1    1    2    2\n",
    "     0    5    0    5    0    5\n",
    " 0 ....S.......................\n",
    " 1 ......................S.....\n",
    " 2 ...............S............\n",
    " 3 ................SB..........\n",
    " 4 ............................\n",
    " 5 ............................\n",
    " 6 ............................\n",
    " 7 ..........S.......S.........\n",
    " 8 ............................\n",
    " 9 ............................\n",
    "10 ....B.......................\n",
    "11 ..S.........................\n",
    "12 ............................\n",
    "13 ............................\n",
    "14 ..............S.......S.....\n",
    "15 B...........................\n",
    "16 ...........SB...............\n",
    "17 ................S..........B\n",
    "18 ....S.......................\n",
    "19 ............................\n",
    "20 ............S......S........\n",
    "21 ............................\n",
    "22 .......................B....\n",
    "This isn't necessarily a comprehensive map of all beacons in the area, though. Because each sensor only identifies its closest beacon, if a sensor detects a beacon, you know there are no other beacons that close or closer to that sensor. There could still be beacons that just happen to not be the closest beacon to any sensor. Consider the sensor at 8,7:\n",
    "\n",
    "               1    1    2    2\n",
    "     0    5    0    5    0    5\n",
    "-2 ..........#.................\n",
    "-1 .........###................\n",
    " 0 ....S...#####...............\n",
    " 1 .......#######........S.....\n",
    " 2 ......#########S............\n",
    " 3 .....###########SB..........\n",
    " 4 ....#############...........\n",
    " 5 ...###############..........\n",
    " 6 ..#################.........\n",
    " 7 .#########S#######S#........\n",
    " 8 ..#################.........\n",
    " 9 ...###############..........\n",
    "10 ....B############...........\n",
    "11 ..S..###########............\n",
    "12 ......#########.............\n",
    "13 .......#######..............\n",
    "14 ........#####.S.......S.....\n",
    "15 B........###................\n",
    "16 ..........#SB...............\n",
    "17 ................S..........B\n",
    "18 ....S.......................\n",
    "19 ............................\n",
    "20 ............S......S........\n",
    "21 ............................\n",
    "22 .......................B....\n",
    "This sensor's closest beacon is at 2,10, and so you know there are no beacons that close or closer (in any positions marked #).\n",
    "\n",
    "None of the detected beacons seem to be producing the distress signal, so you'll need to work out where the distress beacon is by working out where it isn't. For now, keep things simple by counting the positions where a beacon cannot possibly be along just a single row.\n",
    "\n",
    "So, suppose you have an arrangement of beacons and sensors like in the example above and, just in the row where y=10, you'd like to count the number of positions a beacon cannot possibly exist. The coverage from all sensors near that row looks like this:\n",
    "\n",
    "                 1    1    2    2\n",
    "       0    5    0    5    0    5\n",
    " 9 ...#########################...\n",
    "10 ..####B######################..\n",
    "11 .###S#############.###########.\n",
    "In this example, in the row where y=10, there are 26 positions where a beacon cannot be present.\n",
    "\n",
    "Consult the report from the sensors you just deployed. In the row where y=2000000, how many positions cannot contain a beacon?\n",
    "\n",
    "```"
   ]
  },
  {
   "cell_type": "code",
   "execution_count": 1,
   "metadata": {},
   "outputs": [],
   "source": [
    "import re\n",
    "import numpy as np\n",
    "from tqdm.auto import tqdm\n",
    "\n",
    "data_raw = open('inputs/15.input').read()\n",
    "data = np.array(list(map(int,re.findall(r'[yx]=(-?\\d+)', data_raw)))).reshape(-1,2,2)\n",
    "\n",
    "xmin,xmax,ymin,ymax = np.quantile(data,(0,1),axis=(0,1)).T.flatten()\n",
    "sensors_radius = np.abs(data[:,0]-data[:,1]).sum(1)\n",
    "max_radius = sensors_radius.max()\n",
    "beacons_masks = np.isin(np.arange(data.shape[0]), np.unique(data[:,1],axis=0, return_index=True)[1])\n",
    "beacons = data[beacons_masks,1]"
   ]
  },
  {
   "cell_type": "code",
   "execution_count": 2,
   "metadata": {},
   "outputs": [
    {
     "data": {
      "text/plain": [
       "4665948"
      ]
     },
     "execution_count": 2,
     "metadata": {},
     "output_type": "execute_result"
    }
   ],
   "source": [
    "def negative_in_row(row):\n",
    "    segments = []\n",
    "    for (x,y),r in zip(data[:,0],sensors_radius):\n",
    "        if (dist:=abs(y-row)) > r: continue\n",
    "        w2 = abs(r-dist)\n",
    "        segments.append((x-w2,x+w2))\n",
    "    return sorted(segments)\n",
    "\n",
    "def count_segments(row,low_limit=-1e9,high_limit=1e9):\n",
    "    total = 0 \n",
    "    last_to = low_limit\n",
    "    limits_list = [low_limit,low_limit]\n",
    "    segments = negative_in_row(row)\n",
    "    for s_from,s_to in segments:\n",
    "        s_to = min(s_to,high_limit)\n",
    "        \n",
    "        if s_from > limits_list[-1]: limits_list += [1e10,-1e10]\n",
    "        limits_list[-2] = min(limits_list[-2],max(s_from,low_limit))\n",
    "        limits_list[-1] = max(limits_list[-1],s_to)\n",
    "        \n",
    "        w = s_to - s_from + 1\n",
    "        i = min(max(0, last_to - s_from + 1),w)\n",
    "        total += w - i\n",
    "        last_to = max(s_to, last_to)\n",
    "    return total, limits_list\n",
    "\n",
    "def count_bs(row):\n",
    "    bs_count = np.logical_or(data[:,0,1]==row,np.logical_and(data[:,1,1]==row,   beacons_masks)).sum()\n",
    "    return bs_count\n",
    "\n",
    "def count_row(row,*args,**kwargs):\n",
    "    bs_count = count_bs(row)\n",
    "    c,l = count_segments(row,*args,**kwargs)\n",
    "    return c-bs_count, l\n",
    "\n",
    "row = 2000000\n",
    "count_row(row)[0]"
   ]
  },
  {
   "attachments": {},
   "cell_type": "markdown",
   "metadata": {},
   "source": [
    "```--- Part Two ---\n",
    "Your handheld device indicates that the distress signal is coming from a beacon nearby. The distress beacon is not detected by any sensor, but the distress beacon must have x and y coordinates each no lower than 0 and no larger than 4000000.\n",
    "\n",
    "To isolate the distress beacon's signal, you need to determine its tuning frequency, which can be found by multiplying its x coordinate by 4000000 and then adding its y coordinate.\n",
    "\n",
    "In the example above, the search space is smaller: instead, the x and y coordinates can each be at most 20. With this reduced search area, there is only a single position that could have a beacon: x=14, y=11. The tuning frequency for this distress beacon is 56000011.\n",
    "\n",
    "Find the only possible position for the distress beacon. What is its tuning frequency?\n",
    "```"
   ]
  },
  {
   "cell_type": "code",
   "execution_count": 3,
   "metadata": {},
   "outputs": [
    {
     "data": {
      "application/vnd.jupyter.widget-view+json": {
       "model_id": "557cd5cfca9440b492f87196e6bf02b1",
       "version_major": 2,
       "version_minor": 0
      },
      "text/plain": [
       "  0%|          | 0/4000001 [00:00<?, ?it/s]"
      ]
     },
     "metadata": {},
     "output_type": "display_data"
    },
    {
     "name": "stdout",
     "output_type": "stream",
     "text": [
      "13543690671045\n"
     ]
    }
   ],
   "source": [
    "low_limit = 0\n",
    "high_limit = 4000000\n",
    "span = high_limit-low_limit+1\n",
    "\n",
    "mult=4000000\n",
    "\n",
    "for i in tqdm(range(span)):\n",
    "    c,l = count_segments(i,low_limit=low_limit-1,high_limit=high_limit)\n",
    "    \n",
    "    if c != span:\n",
    "        y = i\n",
    "        x = int(sum(l[1:3])/2)\n",
    "        print(x*mult+y)\n",
    "        break"
   ]
  }
 ],
 "metadata": {
  "kernelspec": {
   "display_name": "py39",
   "language": "python",
   "name": "python3"
  },
  "language_info": {
   "codemirror_mode": {
    "name": "ipython",
    "version": 3
   },
   "file_extension": ".py",
   "mimetype": "text/x-python",
   "name": "python",
   "nbconvert_exporter": "python",
   "pygments_lexer": "ipython3",
   "version": "3.9.13"
  },
  "orig_nbformat": 4,
  "vscode": {
   "interpreter": {
    "hash": "355675a2f159721536a38906e24cf6f6c9782c2e86d24280d3fbed54e7864fb5"
   }
  }
 },
 "nbformat": 4,
 "nbformat_minor": 2
}
