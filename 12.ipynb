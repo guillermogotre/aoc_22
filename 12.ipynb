{
 "cells": [
  {
   "cell_type": "markdown",
   "metadata": {},
   "source": [
    "```\n",
    "--- Day 12: Hill Climbing Algorithm ---\n",
    "You try contacting the Elves using your handheld device, but the river you're following must be too low to get a decent signal.\n",
    "\n",
    "You ask the device for a heightmap of the surrounding area (your puzzle input). The heightmap shows the local area from above broken into a grid; the elevation of each square of the grid is given by a single lowercase letter, where a is the lowest elevation, b is the next-lowest, and so on up to the highest elevation, z.\n",
    "\n",
    "Also included on the heightmap are marks for your current position (S) and the location that should get the best signal (E). Your current position (S) has elevation a, and the location that should get the best signal (E) has elevation z.\n",
    "\n",
    "You'd like to reach E, but to save energy, you should do it in as few steps as possible. During each step, you can move exactly one square up, down, left, or right. To avoid needing to get out your climbing gear, the elevation of the destination square can be at most one higher than the elevation of your current square; that is, if your current elevation is m, you could step to elevation n, but not to elevation o. (This also means that the elevation of the destination square can be much lower than the elevation of your current square.)\n",
    "\n",
    "For example:\n",
    "\n",
    "Sabqponm\n",
    "abcryxxl\n",
    "accszExk\n",
    "acctuvwj\n",
    "abdefghi\n",
    "Here, you start in the top-left corner; your goal is near the middle. You could start by moving down or right, but eventually you'll need to head toward the e at the bottom. From there, you can spiral around to the goal:\n",
    "\n",
    "v..v<<<<\n",
    ">v.vv<<^\n",
    ".>vv>E^^\n",
    "..v>>>^^\n",
    "..>>>>>^\n",
    "In the above diagram, the symbols indicate whether the path exits each square moving up (^), down (v), left (<), or right (>). The location that should get the best signal is still E, and . marks unvisited squares.\n",
    "\n",
    "This path reaches the goal in 31 steps, the fewest possible.\n",
    "\n",
    "What is the fewest steps required to move from your current position to the location that should get the best signal?\n",
    "\n",
    "```"
   ]
  },
  {
   "cell_type": "code",
   "execution_count": 1,
   "metadata": {},
   "outputs": [],
   "source": [
    "import numpy as np\n",
    "from dataclasses import dataclass\n",
    "from queue import PriorityQueue\n",
    "# from tqdm.auto import tqdm\n",
    "\n",
    "data = np.array([[ord(v) for v in row] for row in open('inputs/12.input').read().splitlines()])\n",
    "data_max = np.ones(np.array(data.shape)+2)+np.inf\n",
    "data_max[1:-1,1:-1] = data\n",
    "\n",
    "init = np.array((data_max == ord('S')).nonzero(),dtype=int).flatten()\n",
    "data_max[tuple(init)] = ord('a')\n",
    "target = np.array((data_max == ord('E')).nonzero(),dtype=int).flatten()\n",
    "data_max[tuple(target)] = ord('z')\n",
    "\n",
    "def dest_dist(from_pos,to_pos_list):\n",
    "    return np.abs(to_pos_list-from_pos).sum(1).min()\n",
    "\n",
    "@dataclass\n",
    "class Path:\n",
    "    pos: np.ndarray\n",
    "    target: np.ndarray\n",
    "    g: int = 0\n",
    "\n",
    "    @property\n",
    "    def h(self):\n",
    "        return dest_dist(self.pos,self.target)\n",
    "    \n",
    "    @property\n",
    "    def f(self):\n",
    "        return self.g+self.h\n",
    "\n",
    "\n",
    "def get_path(from_pos,to_pos_list, data_max):\n",
    "    visited = []\n",
    "    q = PriorityQueue()\n",
    "    counter = 0\n",
    "    \n",
    "    def add_q(path):\n",
    "        nonlocal q, counter\n",
    "        q.put((path.f,counter,path))\n",
    "        counter += 1\n",
    "        \n",
    "    def get_q():\n",
    "        return q.get()[2]\n",
    "\n",
    "    current = Path(from_pos,to_pos_list)\n",
    "    add_q(current)\n",
    "\n",
    "\n",
    "    # pb = tqdm(total=data.shape[0]*data.shape[1])\n",
    "    while not q.empty():\n",
    "        current = get_q()\n",
    "        if tuple(current.pos) in visited: continue\n",
    "        # pb.update()\n",
    "        \n",
    "        visited.append(tuple(current.pos))\n",
    "        \n",
    "        if current.h == 0:\n",
    "            break\n",
    "        \n",
    "        for step in [[0,1],[0,-1],[1,0],[-1,0]]:\n",
    "            next_pos = current.pos + step\n",
    "            if tuple(next_pos) in visited: continue\n",
    "            \n",
    "            step_cond = data_max[tuple(next_pos)] - data_max[tuple(current.pos)] < 2\n",
    "            step_weight = 1 if step_cond else np.inf\n",
    "            next = Path(next_pos, to_pos_list, g=current.g+step_weight)\n",
    "            add_q(next)\n",
    "    \n",
    "    return current if (current.h == 0).all() else None"
   ]
  },
  {
   "cell_type": "code",
   "execution_count": 2,
   "metadata": {},
   "outputs": [
    {
     "data": {
      "text/plain": [
       "383"
      ]
     },
     "execution_count": 2,
     "metadata": {},
     "output_type": "execute_result"
    }
   ],
   "source": [
    "get_path(init,target[None,:],data_max).g"
   ]
  },
  {
   "attachments": {},
   "cell_type": "markdown",
   "metadata": {},
   "source": [
    "```\n",
    "--- Part Two ---\n",
    "As you walk up the hill, you suspect that the Elves will want to turn this into a hiking trail. The beginning isn't very scenic, though; perhaps you can find a better starting point.\n",
    "\n",
    "To maximize exercise while hiking, the trail should start as low as possible: elevation a. The goal is still the square marked E. However, the trail should still be direct, taking the fewest steps to reach its goal. So, you'll need to find the shortest path from any square at elevation a to the square marked E.\n",
    "\n",
    "Again consider the example from above:\n",
    "\n",
    "Sabqponm\n",
    "abcryxxl\n",
    "accszExk\n",
    "acctuvwj\n",
    "abdefghi\n",
    "Now, there are six choices for starting position (five marked a, plus the square marked S that counts as being at elevation a). If you start at the bottom-left square, you can reach the goal most quickly:\n",
    "\n",
    "...v<<<<\n",
    "...vv<<^\n",
    "...v>E^^\n",
    ".>v>>>^^\n",
    ">^>>>>>^\n",
    "This path reaches the goal in only 29 steps, the fewest possible.\n",
    "\n",
    "What is the fewest steps required to move starting from any square with elevation a to the location that should get the best signal?\n",
    "```"
   ]
  },
  {
   "cell_type": "code",
   "execution_count": 3,
   "metadata": {},
   "outputs": [
    {
     "data": {
      "text/plain": [
       "377"
      ]
     },
     "execution_count": 3,
     "metadata": {},
     "output_type": "execute_result"
    }
   ],
   "source": [
    "lowest = data_max == ord('a')\n",
    "candidate_dest = np.array(lowest.nonzero()).T\n",
    "reversed_map = np.abs(data_max-ord('z'))\n",
    "get_path(target,candidate_dest,reversed_map).g"
   ]
  }
 ],
 "metadata": {
  "kernelspec": {
   "display_name": "py39",
   "language": "python",
   "name": "python3"
  },
  "language_info": {
   "codemirror_mode": {
    "name": "ipython",
    "version": 3
   },
   "file_extension": ".py",
   "mimetype": "text/x-python",
   "name": "python",
   "nbconvert_exporter": "python",
   "pygments_lexer": "ipython3",
   "version": "3.9.13"
  },
  "orig_nbformat": 4,
  "vscode": {
   "interpreter": {
    "hash": "355675a2f159721536a38906e24cf6f6c9782c2e86d24280d3fbed54e7864fb5"
   }
  }
 },
 "nbformat": 4,
 "nbformat_minor": 2
}
