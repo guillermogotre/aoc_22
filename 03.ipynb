{
 "cells": [
  {
   "cell_type": "raw",
   "metadata": {},
   "source": [
    "--- Day 3: Rucksack Reorganization ---\n",
    "One Elf has the important job of loading all of the rucksacks with supplies for the jungle journey. Unfortunately, that Elf didn't quite follow the packing instructions, and so a few items now need to be rearranged.\n",
    "\n",
    "Each rucksack has two large compartments. All items of a given type are meant to go into exactly one of the two compartments. The Elf that did the packing failed to follow this rule for exactly one item type per rucksack.\n",
    "\n",
    "The Elves have made a list of all of the items currently in each rucksack (your puzzle input), but they need your help finding the errors. Every item type is identified by a single lowercase or uppercase letter (that is, a and A refer to different types of items).\n",
    "\n",
    "The list of items for each rucksack is given as characters all on a single line. A given rucksack always has the same number of items in each of its two compartments, so the first half of the characters represent items in the first compartment, while the second half of the characters represent items in the second compartment.\n",
    "\n",
    "For example, suppose you have the following list of contents from six rucksacks:\n",
    "\n",
    "vJrwpWtwJgWrhcsFMMfFFhFp\n",
    "jqHRNqRjqzjGDLGLrsFMfFZSrLrFZsSL\n",
    "PmmdzqPrVvPwwTWBwg\n",
    "wMqvLMZHhHMvwLHjbvcjnnSBnvTQFn\n",
    "ttgJtRGJQctTZtZT\n",
    "CrZsJsPPZsGzwwsLwLmpwMDw\n",
    "The first rucksack contains the items vJrwpWtwJgWrhcsFMMfFFhFp, which means its first compartment contains the items vJrwpWtwJgWr, while the second compartment contains the items hcsFMMfFFhFp. The only item type that appears in both compartments is lowercase p.\n",
    "The second rucksack's compartments contain jqHRNqRjqzjGDLGL and rsFMfFZSrLrFZsSL. The only item type that appears in both compartments is uppercase L.\n",
    "The third rucksack's compartments contain PmmdzqPrV and vPwwTWBwg; the only common item type is uppercase P.\n",
    "The fourth rucksack's compartments only share item type v.\n",
    "The fifth rucksack's compartments only share item type t.\n",
    "The sixth rucksack's compartments only share item type s.\n",
    "To help prioritize item rearrangement, every item type can be converted to a priority:\n",
    "\n",
    "Lowercase item types a through z have priorities 1 through 26.\n",
    "Uppercase item types A through Z have priorities 27 through 52.\n",
    "In the above example, the priority of the item type that appears in both compartments of each rucksack is 16 (p), 38 (L), 42 (P), 22 (v), 20 (t), and 19 (s); the sum of these is 157.\n",
    "\n",
    "Find the item type that appears in both compartments of each rucksack. What is the sum of the priorities of those item types?"
   ]
  },
  {
   "cell_type": "code",
   "execution_count": 110,
   "metadata": {},
   "outputs": [
    {
     "data": {
      "text/plain": [
       "7811"
      ]
     },
     "execution_count": 110,
     "metadata": {},
     "output_type": "execute_result"
    }
   ],
   "source": [
    "with open('03.input') as f:\n",
    "    data = f.read().splitlines()\n",
    "\n",
    "z,A = ord('z'),ord('A')\n",
    "trans = lambda x: ((ord(x)-A)+26)%(z-A+1)+1\n",
    "get_same = lambda x: set(x[:len(x)//2]).intersection(set(x[len(x)//2:])).pop()\n",
    "comp_1 = lambda x: trans(get_same(x))\n",
    "    \n",
    "sum(map(comp_1, data))"
   ]
  },
  {
   "cell_type": "raw",
   "metadata": {},
   "source": [
    "--- Part Two ---\n",
    "As you finish identifying the misplaced items, the Elves come to you with another issue.\n",
    "\n",
    "For safety, the Elves are divided into groups of three. Every Elf carries a badge that identifies their group. For efficiency, within each group of three Elves, the badge is the only item type carried by all three Elves. That is, if a group's badge is item type B, then all three Elves will have item type B somewhere in their rucksack, and at most two of the Elves will be carrying any other item type.\n",
    "\n",
    "The problem is that someone forgot to put this year's updated authenticity sticker on the badges. All of the badges need to be pulled out of the rucksacks so the new authenticity stickers can be attached.\n",
    "\n",
    "Additionally, nobody wrote down which item type corresponds to each group's badges. The only way to tell which item type is the right one is by finding the one item type that is common between all three Elves in each group.\n",
    "\n",
    "Every set of three lines in your list corresponds to a single group, but each group can have a different badge item type. So, in the above example, the first group's rucksacks are the first three lines:\n",
    "\n",
    "vJrwpWtwJgWrhcsFMMfFFhFp\n",
    "jqHRNqRjqzjGDLGLrsFMfFZSrLrFZsSL\n",
    "PmmdzqPrVvPwwTWBwg\n",
    "And the second group's rucksacks are the next three lines:\n",
    "\n",
    "wMqvLMZHhHMvwLHjbvcjnnSBnvTQFn\n",
    "ttgJtRGJQctTZtZT\n",
    "CrZsJsPPZsGzwwsLwLmpwMDw\n",
    "In the first group, the only item type that appears in all three rucksacks is lowercase r; this must be their badges. In the second group, their badge item type must be Z.\n",
    "\n",
    "Priorities for these items must still be found to organize the sticker attachment efforts: here, they are 18 (r) for the first group and 52 (Z) for the second group. The sum of these is 70.\n",
    "\n",
    "Find the item type that corresponds to the badges of each three-Elf group. What is the sum of the priorities of those item types?\n"
   ]
  },
  {
   "cell_type": "code",
   "execution_count": 111,
   "metadata": {},
   "outputs": [
    {
     "data": {
      "text/plain": [
       "2639"
      ]
     },
     "execution_count": 111,
     "metadata": {},
     "output_type": "execute_result"
    }
   ],
   "source": [
    "get_group = lambda d: set(d[0]).intersection(d[1]).intersection(d[2]).pop()\n",
    "comp_2 = lambda x: trans(get_group(x))\n",
    "sum(map(comp_2,zip(data[::3],data[1::3],data[2::3])))"
   ]
  }
 ],
 "metadata": {
  "kernelspec": {
   "display_name": "Python 3.9.13 ('py39')",
   "language": "python",
   "name": "python3"
  },
  "language_info": {
   "codemirror_mode": {
    "name": "ipython",
    "version": 3
   },
   "file_extension": ".py",
   "mimetype": "text/x-python",
   "name": "python",
   "nbconvert_exporter": "python",
   "pygments_lexer": "ipython3",
   "version": "3.9.13"
  },
  "orig_nbformat": 4,
  "vscode": {
   "interpreter": {
    "hash": "355675a2f159721536a38906e24cf6f6c9782c2e86d24280d3fbed54e7864fb5"
   }
  }
 },
 "nbformat": 4,
 "nbformat_minor": 2
}
