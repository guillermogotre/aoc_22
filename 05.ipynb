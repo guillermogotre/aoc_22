{
 "cells": [
  {
   "cell_type": "markdown",
   "metadata": {},
   "source": [
    "```\n",
    "--- Day 5: Supply Stacks ---\n",
    "The expedition can depart as soon as the final supplies have been unloaded from the ships. Supplies are stored in stacks of marked crates, but because the needed supplies are buried under many other crates, the crates need to be rearranged.\n",
    "\n",
    "The ship has a giant cargo crane capable of moving crates between stacks. To ensure none of the crates get crushed or fall over, the crane operator will rearrange them in a series of carefully-planned steps. After the crates are rearranged, the desired crates will be at the top of each stack.\n",
    "\n",
    "The Elves don't want to interrupt the crane operator during this delicate procedure, but they forgot to ask her which crate will end up where, and they want to be ready to unload them as soon as possible so they can embark.\n",
    "\n",
    "They do, however, have a drawing of the starting stacks of crates and the rearrangement procedure (your puzzle input). For example:\n",
    "\n",
    "    [D]    \n",
    "[N] [C]    \n",
    "[Z] [M] [P]\n",
    " 1   2   3 \n",
    "\n",
    "move 1 from 2 to 1\n",
    "move 3 from 1 to 3\n",
    "move 2 from 2 to 1\n",
    "move 1 from 1 to 2\n",
    "In this example, there are three stacks of crates. Stack 1 contains two crates: crate Z is on the bottom, and crate N is on top. Stack 2 contains three crates; from bottom to top, they are crates M, C, and D. Finally, stack 3 contains a single crate, P.\n",
    "\n",
    "Then, the rearrangement procedure is given. In each step of the procedure, a quantity of crates is moved from one stack to a different stack. In the first step of the above rearrangement procedure, one crate is moved from stack 2 to stack 1, resulting in this configuration:\n",
    "\n",
    "[D]        \n",
    "[N] [C]    \n",
    "[Z] [M] [P]\n",
    " 1   2   3 \n",
    "In the second step, three crates are moved from stack 1 to stack 3. Crates are moved one at a time, so the first crate to be moved (D) ends up below the second and third crates:\n",
    "\n",
    "        [Z]\n",
    "        [N]\n",
    "    [C] [D]\n",
    "    [M] [P]\n",
    " 1   2   3\n",
    "Then, both crates are moved from stack 2 to stack 1. Again, because crates are moved one at a time, crate C ends up below crate M:\n",
    "\n",
    "        [Z]\n",
    "        [N]\n",
    "[M]     [D]\n",
    "[C]     [P]\n",
    " 1   2   3\n",
    "Finally, one crate is moved from stack 1 to stack 2:\n",
    "\n",
    "        [Z]\n",
    "        [N]\n",
    "        [D]\n",
    "[C] [M] [P]\n",
    " 1   2   3\n",
    "The Elves just need to know which crate will end up on top of each stack; in this example, the top crates are C in stack 1, M in stack 2, and Z in stack 3, so you should combine these together and give the Elves the message CMZ.\n",
    "\n",
    "After the rearrangement procedure completes, what crate ends up on top of each stack?\n",
    "\n",
    "```"
   ]
  },
  {
   "cell_type": "code",
   "execution_count": 52,
   "metadata": {},
   "outputs": [
    {
     "data": {
      "text/plain": [
       "'RFFFWBPNS'"
      ]
     },
     "execution_count": 52,
     "metadata": {},
     "output_type": "execute_result"
    }
   ],
   "source": [
    "from collections import deque\n",
    "import re\n",
    "\n",
    "transpose = lambda l: list(map(list, zip(*l)))\n",
    "\n",
    "with open('./05.input','r') as f:\n",
    "    data = f.read().splitlines()\n",
    "\n",
    "\n",
    "split_idx = data.index('')\n",
    "parsed = [[*r[1::4]] for r in data[:split_idx-1]]\n",
    "stacks = [deque([e for e in r[::-1] if e != ' ']) for r in transpose(parsed)] \n",
    "def move(n, from_bin, to_bin):\n",
    "    for _ in range(n):\n",
    "        stacks[to_bin-1].append(stacks[from_bin-1].pop())\n",
    "        \n",
    "[move(*[int(x) for x in re.findall(r'\\d+', line)]) for line in data[split_idx+1:]]\n",
    "''.join([x.pop() for x in stacks])"
   ]
  },
  {
   "cell_type": "markdown",
   "metadata": {},
   "source": [
    "```\n",
    "--- Part Two ---\n",
    "As you watch the crane operator expertly rearrange the crates, you notice the process isn't following your prediction.\n",
    "\n",
    "Some mud was covering the writing on the side of the crane, and you quickly wipe it away. The crane isn't a CrateMover 9000 - it's a CrateMover 9001.\n",
    "\n",
    "The CrateMover 9001 is notable for many new and exciting features: air conditioning, leather seats, an extra cup holder, and the ability to pick up and move multiple crates at once.\n",
    "\n",
    "Again considering the example above, the crates begin in the same configuration:\n",
    "\n",
    "    [D]    \n",
    "[N] [C]    \n",
    "[Z] [M] [P]\n",
    " 1   2   3 \n",
    "Moving a single crate from stack 2 to stack 1 behaves the same as before:\n",
    "\n",
    "[D]        \n",
    "[N] [C]    \n",
    "[Z] [M] [P]\n",
    " 1   2   3 \n",
    "However, the action of moving three crates from stack 1 to stack 3 means that those three moved crates stay in the same order, resulting in this new configuration:\n",
    "\n",
    "        [D]\n",
    "        [N]\n",
    "    [C] [Z]\n",
    "    [M] [P]\n",
    " 1   2   3\n",
    "Next, as both crates are moved from stack 2 to stack 1, they retain their order as well:\n",
    "\n",
    "        [D]\n",
    "        [N]\n",
    "[C]     [Z]\n",
    "[M]     [P]\n",
    " 1   2   3\n",
    "Finally, a single crate is still moved from stack 1 to stack 2, but now it's crate C that gets moved:\n",
    "\n",
    "        [D]\n",
    "        [N]\n",
    "        [Z]\n",
    "[M] [C] [P]\n",
    " 1   2   3\n",
    "In this example, the CrateMover 9001 has put the crates in a totally different order: MCD.\n",
    "\n",
    "Before the rearrangement process finishes, update your simulation so that the Elves know where they should stand to be ready to unload the final supplies. After the rearrangement procedure completes, what crate ends up on top of each stack?\n",
    "```"
   ]
  },
  {
   "cell_type": "code",
   "execution_count": 53,
   "metadata": {},
   "outputs": [
    {
     "data": {
      "text/plain": [
       "'CQQBBJFCS'"
      ]
     },
     "execution_count": 53,
     "metadata": {},
     "output_type": "execute_result"
    }
   ],
   "source": [
    "stacks = [deque([e for e in r[::-1] if e != ' ']) for r in transpose(parsed)] \n",
    "\n",
    "def move_multiple(n, from_bin, to_bin):\n",
    "    l = [stacks[from_bin-1].pop() for _ in range(n)]\n",
    "    stacks[to_bin-1].extend(l[::-1])\n",
    "\n",
    "[move_multiple(*[int(x) for x in re.findall(r'\\d+', line)]) for line in data[split_idx+1:]]\n",
    "''.join([x.pop() for x in stacks])"
   ]
  }
 ],
 "metadata": {
  "kernelspec": {
   "display_name": "Python 3.9.13 ('py39')",
   "language": "python",
   "name": "python3"
  },
  "language_info": {
   "codemirror_mode": {
    "name": "ipython",
    "version": 3
   },
   "file_extension": ".py",
   "mimetype": "text/x-python",
   "name": "python",
   "nbconvert_exporter": "python",
   "pygments_lexer": "ipython3",
   "version": "3.9.13"
  },
  "orig_nbformat": 4,
  "vscode": {
   "interpreter": {
    "hash": "355675a2f159721536a38906e24cf6f6c9782c2e86d24280d3fbed54e7864fb5"
   }
  }
 },
 "nbformat": 4,
 "nbformat_minor": 2
}
