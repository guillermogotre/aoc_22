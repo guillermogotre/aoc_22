{
 "cells": [
  {
   "cell_type": "markdown",
   "metadata": {},
   "source": [
    "```\n",
    "--- Day 7: No Space Left On Device ---\n",
    "You can hear birds chirping and raindrops hitting leaves as the expedition proceeds. Occasionally, you can even hear much louder sounds in the distance; how big do the animals get out here, anyway?\n",
    "\n",
    "The device the Elves gave you has problems with more than just its communication system. You try to run a system update:\n",
    "\n",
    "$ system-update --please --pretty-please-with-sugar-on-top\n",
    "Error: No space left on device\n",
    "Perhaps you can delete some files to make space for the update?\n",
    "\n",
    "You browse around the filesystem to assess the situation and save the resulting terminal output (your puzzle input). For example:\n",
    "\n",
    "$ cd /\n",
    "$ ls\n",
    "dir a\n",
    "14848514 b.txt\n",
    "8504156 c.dat\n",
    "dir d\n",
    "$ cd a\n",
    "$ ls\n",
    "dir e\n",
    "29116 f\n",
    "2557 g\n",
    "62596 h.lst\n",
    "$ cd e\n",
    "$ ls\n",
    "584 i\n",
    "$ cd ..\n",
    "$ cd ..\n",
    "$ cd d\n",
    "$ ls\n",
    "4060174 j\n",
    "8033020 d.log\n",
    "5626152 d.ext\n",
    "7214296 k\n",
    "The filesystem consists of a tree of files (plain data) and directories (which can contain other directories or files). The outermost directory is called /. You can navigate around the filesystem, moving into or out of directories and listing the contents of the directory you're currently in.\n",
    "\n",
    "Within the terminal output, lines that begin with $ are commands you executed, very much like some modern computers:\n",
    "\n",
    "cd means change directory. This changes which directory is the current directory, but the specific result depends on the argument:\n",
    "cd x moves in one level: it looks in the current directory for the directory named x and makes it the current directory.\n",
    "cd .. moves out one level: it finds the directory that contains the current directory, then makes that directory the current directory.\n",
    "cd / switches the current directory to the outermost directory, /.\n",
    "ls means list. It prints out all of the files and directories immediately contained by the current directory:\n",
    "123 abc means that the current directory contains a file named abc with size 123.\n",
    "dir xyz means that the current directory contains a directory named xyz.\n",
    "Given the commands and output in the example above, you can determine that the filesystem looks visually like this:\n",
    "\n",
    "- / (dir)\n",
    "  - a (dir)\n",
    "    - e (dir)\n",
    "      - i (file, size=584)\n",
    "    - f (file, size=29116)\n",
    "    - g (file, size=2557)\n",
    "    - h.lst (file, size=62596)\n",
    "  - b.txt (file, size=14848514)\n",
    "  - c.dat (file, size=8504156)\n",
    "  - d (dir)\n",
    "    - j (file, size=4060174)\n",
    "    - d.log (file, size=8033020)\n",
    "    - d.ext (file, size=5626152)\n",
    "    - k (file, size=7214296)\n",
    "Here, there are four directories: / (the outermost directory), a and d (which are in /), and e (which is in a). These directories also contain files of various sizes.\n",
    "\n",
    "Since the disk is full, your first step should probably be to find directories that are good candidates for deletion. To do this, you need to determine the total size of each directory. The total size of a directory is the sum of the sizes of the files it contains, directly or indirectly. (Directories themselves do not count as having any intrinsic size.)\n",
    "\n",
    "The total sizes of the directories above can be found as follows:\n",
    "\n",
    "The total size of directory e is 584 because it contains a single file i of size 584 and no other directories.\n",
    "The directory a has total size 94853 because it contains files f (size 29116), g (size 2557), and h.lst (size 62596), plus file i indirectly (a contains e which contains i).\n",
    "Directory d has total size 24933642.\n",
    "As the outermost directory, / contains every file. Its total size is 48381165, the sum of the size of every file.\n",
    "To begin, find all of the directories with a total size of at most 100000, then calculate the sum of their total sizes. In the example above, these directories are a and e; the sum of their total sizes is 95437 (94853 + 584). (As in this example, this process can count files more than once!)\n",
    "\n",
    "Find all of the directories with a total size of at most 100000. What is the sum of the total sizes of those directories?\n",
    "\n",
    "To begin, get your puzzle input.\n",
    "```"
   ]
  },
  {
   "cell_type": "code",
   "execution_count": 45,
   "metadata": {},
   "outputs": [],
   "source": [
    "import itertools\n",
    "\n",
    "data = open('7.input','r').read().splitlines()\n",
    "data.index('$ ls',2)\n",
    "\n",
    "# Tree node class\n",
    "class path_node:\n",
    "    def __init__(self,name,parent=None):\n",
    "        self.name = name\n",
    "        self.parent = parent\n",
    "        self.children = {}\n",
    "        self._weight = 0\n",
    "    \n",
    "    @property\n",
    "    def weight(self):\n",
    "        return self._weight + sum([child.weight for child in self.children.values()])\n",
    "    \n",
    "    def add_child(self,child_name):\n",
    "        self.children[child_name] = path_node(child_name,self)\n",
    "    def increase_weight(self,weight):\n",
    "        self._weight += weight\n",
    "    def go_to(self, steps):\n",
    "        to_return = self\n",
    "        for step in steps:\n",
    "            to_return = to_return.children[step] if step != '..' else to_return.parent\n",
    "        return to_return\n",
    "    def all_weights(self):\n",
    "        return itertools.chain.from_iterable([[self.weight]] + [child.all_weights() for child in self.children.values()])\n",
    "    \n",
    "# Build tree\n",
    "root = path_node('/')\n",
    "node = root\n",
    "full_path = [node.name]\n",
    "i = 1\n",
    "while i < len(data):\n",
    "    next_i = data.index('$ ls',i)\n",
    "    \n",
    "    rel_path = (data[j].split(' ')[-1] for j in range(i,next_i))\n",
    "    node = node.go_to(rel_path)\n",
    "    \n",
    "    i = next_i + 1\n",
    "    while i < len(data) and (l := data[i])[0] != '$':\n",
    "        i += 1\n",
    "        if l[:3] == 'dir':\n",
    "            node.add_child(l.split(' ')[-1])    \n",
    "        else:\n",
    "            node.increase_weight(int(l.split(' ')[0]))"
   ]
  },
  {
   "cell_type": "code",
   "execution_count": 46,
   "metadata": {},
   "outputs": [
    {
     "data": {
      "text/plain": [
       "1648397"
      ]
     },
     "execution_count": 46,
     "metadata": {},
     "output_type": "execute_result"
    }
   ],
   "source": [
    "sum(e for e in root.all_weights() if e <= 100000)"
   ]
  },
  {
   "cell_type": "markdown",
   "metadata": {},
   "source": [
    "```\n",
    "--- Part Two ---\n",
    "Now, you're ready to choose a directory to delete.\n",
    "\n",
    "The total disk space available to the filesystem is 70000000. To run the update, you need unused space of at least 30000000. You need to find a directory you can delete that will free up enough space to run the update.\n",
    "\n",
    "In the example above, the total size of the outermost directory (and thus the total amount of used space) is 48381165; this means that the size of the unused space must currently be 21618835, which isn't quite the 30000000 required by the update. Therefore, the update still requires a directory with total size of at least 8381165 to be deleted before it can run.\n",
    "\n",
    "To achieve this, you have the following options:\n",
    "\n",
    "Delete directory e, which would increase unused space by 584.\n",
    "Delete directory a, which would increase unused space by 94853.\n",
    "Delete directory d, which would increase unused space by 24933642.\n",
    "Delete directory /, which would increase unused space by 48381165.\n",
    "Directories e and a are both too small; deleting them would not free up enough space. However, directories d and / are both big enough! Between these, choose the smallest: d, increasing unused space by 24933642.\n",
    "\n",
    "Find the smallest directory that, if deleted, would free up enough space on the filesystem to run the update. What is the total size of that directory?\n",
    "```"
   ]
  },
  {
   "cell_type": "code",
   "execution_count": 44,
   "metadata": {},
   "outputs": [
    {
     "data": {
      "text/plain": [
       "1815525"
      ]
     },
     "execution_count": 44,
     "metadata": {},
     "output_type": "execute_result"
    }
   ],
   "source": [
    "needed = 70000000 - 30000000\n",
    "to_erase = max(0,root.weight - needed)\n",
    "min((e for e in root.all_weights() if e >= to_erase))"
   ]
  }
 ],
 "metadata": {
  "kernelspec": {
   "display_name": "Python 3.9.13 ('py39')",
   "language": "python",
   "name": "python3"
  },
  "language_info": {
   "codemirror_mode": {
    "name": "ipython",
    "version": 3
   },
   "file_extension": ".py",
   "mimetype": "text/x-python",
   "name": "python",
   "nbconvert_exporter": "python",
   "pygments_lexer": "ipython3",
   "version": "3.9.13"
  },
  "orig_nbformat": 4,
  "vscode": {
   "interpreter": {
    "hash": "355675a2f159721536a38906e24cf6f6c9782c2e86d24280d3fbed54e7864fb5"
   }
  }
 },
 "nbformat": 4,
 "nbformat_minor": 2
}
